{
 "cells": [
  {
   "cell_type": "markdown",
   "metadata": {},
   "source": [
    "\n",
    "\n",
    "## Optimization\n",
    "### Assignment 1\n",
    "### Ali Mortazavi\n",
    "#### 96131044"
   ]
  },
  {
   "cell_type": "markdown",
   "metadata": {},
   "source": [
    "**We used CVXOPT library / python **"
   ]
  },
  {
   "cell_type": "code",
   "execution_count": 5,
   "metadata": {},
   "outputs": [],
   "source": [
    "from cvxopt import matrix, solvers\n",
    "import numpy as np\n",
    "import cvxopt"
   ]
  },
  {
   "cell_type": "markdown",
   "metadata": {},
   "source": [
    "\n",
    "## Question 9\n",
    "\n",
    "\n"
   ]
  },
  {
   "cell_type": "code",
   "execution_count": 6,
   "metadata": {},
   "outputs": [
    {
     "name": "stdout",
     "output_type": "stream",
     "text": [
      "     pcost       dcost       gap    pres   dres   k/t\n",
      " 0:  1.0000e+00  1.0000e+00  4e+00  6e-01  2e-16  1e+00\n",
      " 1:  1.6732e+00  1.6745e+00  4e-01  5e-02  2e-16  9e-02\n",
      " 2:  1.9479e+00  1.9535e+00  2e-01  3e-02  6e-16  5e-02\n",
      " 3:  1.9994e+00  1.9995e+00  2e-03  3e-04  3e-16  6e-04\n",
      " 4:  2.0000e+00  2.0000e+00  2e-05  3e-06  2e-16  6e-06\n",
      " 5:  2.0000e+00  2.0000e+00  2e-07  3e-08  5e-16  6e-08\n",
      "Optimal solution found.\n",
      "[ 2.00e+00]\n",
      "[-2.57e-08]\n",
      "\n"
     ]
    }
   ],
   "source": [
    "A = cvxopt.matrix([ [-1.0, -1.0, 0.0, 2.0], [1.0, -1.0, -1.0, -3.0]])\n",
    "b = cvxopt.matrix([ 2.0, -2.0, 0.0, 5.0 ])\n",
    "c = cvxopt.matrix([ 1.0, 3.0 ])\n",
    "sol=cvxopt.solvers.lp(c,A,b)\n",
    "print (sol['x'])"
   ]
  },
  {
   "cell_type": "markdown",
   "metadata": {},
   "source": [
    "The answer is $x = (2,0)$"
   ]
  },
  {
   "cell_type": "markdown",
   "metadata": {},
   "source": [
    "## Question 10"
   ]
  },
  {
   "cell_type": "code",
   "execution_count": 13,
   "metadata": {},
   "outputs": [],
   "source": [
    "A = cvxopt.matrix([ [-2.0, -1.0, -1.0, 0.0], [-1.0, -3.0, -0.0, -1.0]])\n",
    "b = cvxopt.matrix([ -1.0, -1.0, 0.0, 0.0 ])"
   ]
  },
  {
   "cell_type": "markdown",
   "metadata": {},
   "source": [
    "### a) $f_0 = x_1 + x_2 $"
   ]
  },
  {
   "cell_type": "code",
   "execution_count": 14,
   "metadata": {},
   "outputs": [
    {
     "name": "stdout",
     "output_type": "stream",
     "text": [
      "     pcost       dcost       gap    pres   dres   k/t\n",
      " 0:  5.3659e-01  5.3659e-01  8e-01  2e+00  0e+00  1e+00\n",
      " 1:  5.7507e-01  5.6286e-01  6e-02  1e-01  2e-16  5e-02\n",
      " 2:  5.9970e-01  5.9932e-01  1e-03  2e-03  8e-16  6e-04\n",
      " 3:  6.0000e-01  5.9999e-01  1e-05  2e-05  6e-16  6e-06\n",
      " 4:  6.0000e-01  6.0000e-01  1e-07  2e-07  3e-16  6e-08\n",
      " 5:  6.0000e-01  6.0000e-01  1e-09  2e-09  2e-16  6e-10\n",
      "Optimal solution found.\n",
      "[ 4.00e-01]\n",
      "[ 2.00e-01]\n",
      "\n"
     ]
    }
   ],
   "source": [
    "c = cvxopt.matrix([ 1.0, 1.0 ])\n",
    "sol=cvxopt.solvers.lp(c,A,b)\n",
    "print (sol['x'])"
   ]
  },
  {
   "cell_type": "markdown",
   "metadata": {},
   "source": [
    "which is equal to $(\\frac{2}{5}, \\frac{1}{5})$"
   ]
  },
  {
   "cell_type": "markdown",
   "metadata": {},
   "source": [
    "### b) $f_0 =  - x_1 -x_2 $"
   ]
  },
  {
   "cell_type": "code",
   "execution_count": 15,
   "metadata": {},
   "outputs": [
    {
     "name": "stdout",
     "output_type": "stream",
     "text": [
      "     pcost       dcost       gap    pres   dres   k/t\n",
      " 0: -5.3659e-01  2.0976e+00  6e+00  2e+00  6e+00  1e+00\n",
      " 1: -6.0019e+00  5.1588e-01  4e+01  2e+00  6e+00  5e+00\n",
      " 2: -6.0989e+01  4.5458e-01  7e+01  6e-01  2e+00  6e+01\n",
      " 3: -6.0936e+03  4.5811e-01  7e+03  6e-01  2e+00  6e+03\n",
      " 4: -6.0935e+05  4.5811e-01  7e+05  6e-01  2e+00  6e+05\n",
      " 5: -6.0935e+07  4.5811e-01  7e+07  6e-01  2e+00  6e+07\n",
      "Certificate of dual infeasibility found.\n",
      "[ 5.72e-01]\n",
      "[ 4.28e-01]\n",
      "\n"
     ]
    }
   ],
   "source": [
    "c = cvxopt.matrix([ -1.0, -1.0 ])\n",
    "sol=cvxopt.solvers.lp(c,A,b)\n",
    "print (sol['x'])"
   ]
  },
  {
   "cell_type": "markdown",
   "metadata": {},
   "source": [
    "we can reach $p^* =  - \\infty$"
   ]
  },
  {
   "cell_type": "markdown",
   "metadata": {},
   "source": [
    "### c) $f_0 =  x_1$"
   ]
  },
  {
   "cell_type": "code",
   "execution_count": 16,
   "metadata": {},
   "outputs": [
    {
     "name": "stdout",
     "output_type": "stream",
     "text": [
      "     pcost       dcost       gap    pres   dres   k/t\n",
      " 0:  3.1707e-01  2.5610e+00  6e+00  2e+00  7e+00  1e+00\n",
      " 1:  2.8898e-01  5.5597e-01  4e-01  2e-01  9e-01  1e-01\n",
      " 2: -3.0907e-02  9.9181e-02  2e-01  6e-02  2e-01  9e-02\n",
      " 3: -2.8908e-04  1.0177e-03  2e-03  6e-04  3e-03  9e-04\n",
      " 4: -2.8905e-06  1.0175e-05  2e-05  6e-06  3e-05  9e-06\n",
      " 5: -2.8905e-08  1.0175e-07  2e-07  6e-08  3e-07  9e-08\n",
      " 6: -2.8905e-10  1.0175e-09  2e-09  6e-10  3e-09  9e-10\n",
      "Optimal solution found.\n",
      "[-2.89e-10]\n",
      "[ 1.51e+00]\n",
      "\n"
     ]
    }
   ],
   "source": [
    "c = cvxopt.matrix([ 1.0, 0.0 ])\n",
    "sol=cvxopt.solvers.lp(c,A,b)\n",
    "print (sol['x'])"
   ]
  },
  {
   "cell_type": "markdown",
   "metadata": {},
   "source": [
    "Which is one point in line $(0,y), y \\geq 1 $"
   ]
  },
  {
   "cell_type": "markdown",
   "metadata": {},
   "source": [
    "### d) $f_0 =  max \\{x_1, x_2\\}$"
   ]
  },
  {
   "cell_type": "code",
   "execution_count": 18,
   "metadata": {},
   "outputs": [
    {
     "name": "stdout",
     "output_type": "stream",
     "text": [
      "     pcost       dcost       gap    pres   dres   k/t\n",
      " 0:  2.6606e-01  2.6606e-01  2e+00  2e+00  3e-17  1e+00\n",
      " 1:  2.8379e-01  2.8066e-01  2e-01  2e-01  3e-16  1e-01\n",
      " 2:  3.2845e-01  3.2371e-01  6e-02  7e-02  3e-16  3e-02\n",
      " 3:  3.3313e-01  3.3295e-01  1e-03  1e-03  3e-16  4e-04\n",
      " 4:  3.3333e-01  3.3333e-01  1e-05  1e-05  6e-16  4e-06\n",
      " 5:  3.3333e-01  3.3333e-01  1e-07  1e-07  3e-16  4e-08\n",
      " 6:  3.3333e-01  3.3333e-01  1e-09  1e-09  2e-16  4e-10\n",
      "Optimal solution found.\n",
      "[ 3.33e-01]\n",
      "[ 3.33e-01]\n",
      "[ 3.33e-01]\n",
      "\n"
     ]
    }
   ],
   "source": [
    "A = cvxopt.matrix([ [-2.0, -1.0, -1.0, 0.0, 1.0, 0.0], [-1.0, -3.0, -0.0, -1.0, 0.0, 1.0],\n",
    "                  [0.0, 0.0, 0.0, 0.0, -1.0, -1.0]])\n",
    "b = cvxopt.matrix([ -1.0, -1.0, 0.0, 0.0, 0.0, 0.0 ])\n",
    "c = cvxopt.matrix([ 0.0, 0.0, 1.0 ])\n",
    "sol=cvxopt.solvers.lp(c,A,b)\n",
    "print (sol['x'])"
   ]
  },
  {
   "cell_type": "markdown",
   "metadata": {},
   "source": [
    "which means that the optimum value is $(x_1 = \\frac{1}{3}, x_2 = \\frac{1}{3}, t = \\frac{1}{3} )$"
   ]
  },
  {
   "cell_type": "markdown",
   "metadata": {},
   "source": [
    "### f) $f_0 =  x_1^2 + 9x_2^2$"
   ]
  },
  {
   "cell_type": "code",
   "execution_count": 25,
   "metadata": {},
   "outputs": [
    {
     "name": "stdout",
     "output_type": "stream",
     "text": [
      "     pcost       dcost       gap    pres   dres\n",
      " 0:  1.6546e-01  9.2509e-01  7e+00  2e+00  8e+00\n",
      " 1:  9.5903e-01  4.4893e-02  9e-01  3e-16  8e-16\n",
      " 2:  5.1376e-01  4.0631e-01  1e-01  1e-16  6e-16\n",
      " 3:  5.0097e-01  4.9358e-01  7e-03  8e-17  3e-15\n",
      " 4:  5.0001e-01  4.9985e-01  2e-04  2e-16  4e-15\n",
      " 5:  5.0000e-01  5.0000e-01  2e-06  1e-16  2e-14\n",
      " 6:  5.0000e-01  5.0000e-01  2e-08  1e-16  3e-14\n",
      "Optimal solution found.\n",
      "[ 5.00e-01]\n",
      "[ 1.67e-01]\n",
      "\n"
     ]
    }
   ],
   "source": [
    "from cvxopt import matrix, solvers\n",
    "P = matrix([[2.0, 0.0], [0.0, 18.0] ])\n",
    "q = matrix([0.0, 0.0])\n",
    "G = matrix([[-2.0,-1.0, -1.0, 0.0],[-1.0,-3.0, 0.0, -1.0]])\n",
    "h = matrix([-1.0, -1.0, 0.0,0.0])\n",
    "A = matrix([1.0, 1.0], (1,2))\n",
    "b = matrix(1.0)\n",
    "sol=solvers.qp(P, q, G, h)\n",
    "print (sol['x'])"
   ]
  },
  {
   "cell_type": "markdown",
   "metadata": {},
   "source": [
    "Which is equal to $(\\frac{1}{2}, \\frac{1}{6} )$"
   ]
  },
  {
   "cell_type": "markdown",
   "metadata": {},
   "source": [
    "## Question 11"
   ]
  },
  {
   "cell_type": "code",
   "execution_count": 26,
   "metadata": {},
   "outputs": [
    {
     "name": "stdout",
     "output_type": "stream",
     "text": [
      "     pcost       dcost       gap    pres   dres\n",
      " 0: -2.2306e+01 -3.0312e+01  2e+01  1e+00  1e-16\n",
      " 1: -2.2111e+01 -2.3992e+01  2e+00  3e-16  7e-17\n",
      " 2: -2.2347e+01 -2.2406e+01  6e-02  3e-16  4e-17\n",
      " 3: -2.2382e+01 -2.2383e+01  1e-03  2e-16  5e-17\n",
      " 4: -2.2382e+01 -2.2382e+01  1e-05  1e-16  3e-17\n",
      "Optimal solution found.\n",
      "[ 1.00e+00]\n",
      "[ 4.71e-01]\n",
      "[-1.00e+00]\n",
      "\n"
     ]
    }
   ],
   "source": [
    "P = matrix([[13.0,12.0, -2.0], [12.0, 17.0, 6.0], [-2.0, 6.0, 12.0] ])\n",
    "q = matrix([-22.0, -14.0, 13.0])\n",
    "G = matrix([[1.0, -1.0, 0.0, 0.0, 0.0, 0.0],\n",
    "            [0.0, 0.0, 1.0, -1.0, 0.0, 0.0],\n",
    "            [0.0, 0.0, 0.0, 0.0, 1.0, -1.0] ])\n",
    "h = matrix([1.0, 1.0, 1.0, 1.0, 1.0, 1.0])\n",
    "A = matrix([1.0, 1.0], (1,2))\n",
    "b = matrix(1.0)\n",
    "sol=solvers.qp(P, q, G, h)\n",
    "print (sol['x'])"
   ]
  },
  {
   "cell_type": "markdown",
   "metadata": {},
   "source": [
    "which is close to $x^*= (1, \\frac{1}{2}, -1)$"
   ]
  }
 ],
 "metadata": {
  "kernelspec": {
   "display_name": "Python 3",
   "language": "python",
   "name": "python3"
  },
  "language_info": {
   "codemirror_mode": {
    "name": "ipython",
    "version": 3
   },
   "file_extension": ".py",
   "mimetype": "text/x-python",
   "name": "python",
   "nbconvert_exporter": "python",
   "pygments_lexer": "ipython3",
   "version": "3.6.5"
  }
 },
 "nbformat": 4,
 "nbformat_minor": 2
}
